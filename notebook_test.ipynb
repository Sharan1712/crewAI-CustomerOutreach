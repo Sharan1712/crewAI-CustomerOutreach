{
 "cells": [
  {
   "cell_type": "code",
   "execution_count": null,
   "metadata": {},
   "outputs": [],
   "source": [
    "import warnings\n",
    "warnings.filterwarnings('ignore')"
   ]
  },
  {
   "cell_type": "code",
   "execution_count": null,
   "metadata": {},
   "outputs": [],
   "source": [
    "from dotenv import load_dotenv\n",
    "load_dotenv()"
   ]
  },
  {
   "cell_type": "code",
   "execution_count": null,
   "metadata": {},
   "outputs": [],
   "source": [
    "from langchain_community.llms import HuggingFaceHub\n",
    "from crewai import LLM\n",
    "import os\n",
    "\n",
    "# Setting up the LLMs to use for our agents.\n",
    "# We can also keep different LLMs for different agents\n",
    "\n",
    "# llm = HuggingFaceHub(\n",
    "#     repo_id = \"mistralai/Mistral-7B-Instruct-v0.3\",\n",
    "#     huggingfacehub_api_token = os.getenv(\"HF_TOKEN\"),\n",
    "#     task = \"text-generation\",\n",
    "# )\n",
    "\n",
    "llm = LLM(model = \"openai/gpt-4o-mini\")"
   ]
  },
  {
   "cell_type": "markdown",
   "metadata": {},
   "source": [
    "### Initialize the Agents"
   ]
  },
  {
   "cell_type": "code",
   "execution_count": null,
   "metadata": {},
   "outputs": [],
   "source": [
    "from crewai import Agent, Task, Crew"
   ]
  },
  {
   "cell_type": "code",
   "execution_count": null,
   "metadata": {},
   "outputs": [],
   "source": [
    "sales_rep_agent = Agent(\n",
    "    role = \"Sales Representative\",\n",
    "    goal = \"Identify high-value leads that match our ideal customer profile\",\n",
    "    backstory = \"\"\"As a part of the dynamic sales team at CrewAI, your mission is to scour the digital landscape for potential leads. \n",
    "    Armed with cutting-edge tools and a strategic mindset, you analyze data, trends, and interactions to unearth opportunities that others might overlook. \n",
    "    Your work is crucial in paving the way for meaningful engagements and driving the company's growth.\"\"\",\n",
    "    allow_delegation = False,\n",
    "    verbose = True\n",
    ")"
   ]
  },
  {
   "cell_type": "code",
   "execution_count": null,
   "metadata": {},
   "outputs": [],
   "source": [
    "lead_sales_rep_agent = Agent(\n",
    "    role = \"Lead Sales Representative\",\n",
    "    goal = \"Nurture leads with personalized, compelling communications\",\n",
    "    backstory = \"\"\"Within the vibrant ecosystem of CrewAI's sales department, you stand out as the bridge between potential clients and the solutions they need. \n",
    "    By creating engaging, personalized messages, you not only inform leads about our offerings but also make them feel seen and heard. \n",
    "    Your role is pivotal in converting interest into action, guiding leads through the journey from curiosity to commitment.\"\"\",\n",
    "    allow_delegation = False,\n",
    "    verbose = True\n",
    ")"
   ]
  },
  {
   "cell_type": "markdown",
   "metadata": {},
   "source": [
    "### Creating Tools"
   ]
  },
  {
   "cell_type": "code",
   "execution_count": null,
   "metadata": {},
   "outputs": [],
   "source": [
    "from crewai_tools import DirectoryReadTool, FileReadTool, SerperDevTool"
   ]
  },
  {
   "cell_type": "code",
   "execution_count": null,
   "metadata": {},
   "outputs": [],
   "source": [
    "directory_read_tool = DirectoryReadTool(directory = './instructions')\n",
    "file_read_tool = FileReadTool()\n",
    "search_tool = SerperDevTool()"
   ]
  },
  {
   "cell_type": "markdown",
   "metadata": {},
   "source": [
    "Create a custom tool using crewAi's BaseTool class"
   ]
  },
  {
   "cell_type": "code",
   "execution_count": null,
   "metadata": {},
   "outputs": [],
   "source": [
    "from crewai_tools import BaseTool"
   ]
  },
  {
   "cell_type": "code",
   "execution_count": null,
   "metadata": {},
   "outputs": [],
   "source": [
    "class SentimentAnalysisTool(BaseTool):\n",
    "    name: str =\"Sentiment Analysis Tool\"\n",
    "    description: str = \"Analyzes the sentiment of text to ensure positive and engaging communication.\"\n",
    "    \n",
    "    def _run(self, text: str) -> str:\n",
    "        # Your custom code tool goes here\n",
    "        return \"positive\""
   ]
  },
  {
   "cell_type": "code",
   "execution_count": null,
   "metadata": {},
   "outputs": [],
   "source": [
    "sentiment_analysis_tool = SentimentAnalysisTool()"
   ]
  },
  {
   "cell_type": "markdown",
   "metadata": {},
   "source": [
    "### Initialize the Tasks\n",
    "\n",
    "In this part we initialize the tasks for each agent. The Task describes what you expect the agent to do and how should the output be produced.\n",
    "A well defined task should have a clear description & expectation and good context."
   ]
  },
  {
   "cell_type": "code",
   "execution_count": null,
   "metadata": {},
   "outputs": [],
   "source": [
    "lead_profiling_task = Task(\n",
    "    description = \"\"\"Conduct an in-depth analysis of {lead_name}, a company in the {industry} sector that recently showed interest in our solutions. \n",
    "    Utilize all available data sources to compile a detailed profile, focusing on key decision-makers, recent business developments,\n",
    "    and potential needs that align with our offerings. This task is crucial for tailoring our engagement strategy effectively. \n",
    "    Don't make assumptions and only use information you absolutely sure about.\"\"\",\n",
    "    expected_output = \"\"\"A comprehensive report on {lead_name}, including company background, key personnel, recent milestones, and identified needs. \n",
    "    Highlight potential areas where our solutions can provide value, and suggest personalized engagement strategies.\"\"\",\n",
    "    tools = [directory_read_tool, file_read_tool, search_tool],\n",
    "    agent = sales_rep_agent,\n",
    ")"
   ]
  },
  {
   "cell_type": "code",
   "execution_count": null,
   "metadata": {},
   "outputs": [],
   "source": [
    "personalized_outreach_task = Task(\n",
    "    description = \"\"\"Using the insights gathered from the lead profiling report on {lead_name}, craft a personalized outreach campaign \n",
    "    aimed at {key_decision_maker}, the {position} of {lead_name}. The campaign should address their recent {milestone} \n",
    "    and how our solutions can support their goals. Your communication must resonate with {lead_name}'s company culture and values, \n",
    "    demonstrating a deep understanding of their business and needs. \n",
    "    Don't make assumptions and only use information you absolutely sure about.\"\"\",\n",
    "    expected_output = \n",
    "        \"\"\"A series of personalized email drafts tailored to {lead_name}, specifically targeting {key_decision_maker}. \n",
    "        Each draft should include a compelling narrative that connects our solutions with their recent achievements and future goals. \n",
    "        Ensure the tone is engaging, professional, and aligned with {lead_name}'s corporate identity.\"\"\",\n",
    "    tools = [sentiment_analysis_tool, search_tool],\n",
    "    agent = lead_sales_rep_agent,\n",
    ")"
   ]
  },
  {
   "cell_type": "markdown",
   "metadata": {},
   "source": [
    "### Create the Crew\n",
    "Crew assembles the agents and their tasks togethers to create a flow for execution. Order of the task is important."
   ]
  },
  {
   "cell_type": "code",
   "execution_count": null,
   "metadata": {},
   "outputs": [],
   "source": [
    "crew = Crew(\n",
    "    agents=[sales_rep_agent, \n",
    "            lead_sales_rep_agent],\n",
    "    \n",
    "    tasks=[lead_profiling_task, \n",
    "           personalized_outreach_task],\n",
    "\t\n",
    "    verbose=2,\n",
    "\tmemory=True\n",
    ")"
   ]
  },
  {
   "cell_type": "code",
   "execution_count": null,
   "metadata": {},
   "outputs": [],
   "source": [
    "inputs = {\n",
    "    \"lead_name\": \"DeepLearningAI\",\n",
    "    \"industry\": \"Online Learning Platform\",\n",
    "    \"key_decision_maker\": \"Andrew Ng\",\n",
    "    \"position\": \"CEO\",\n",
    "    \"milestone\": \"product launch\"\n",
    "}\n",
    "\n",
    "result = crew.kickoff(inputs=inputs)"
   ]
  },
  {
   "cell_type": "code",
   "execution_count": null,
   "metadata": {},
   "outputs": [],
   "source": [
    "from IPython.display import Markdown\n",
    "Markdown(result)"
   ]
  },
  {
   "cell_type": "code",
   "execution_count": null,
   "metadata": {},
   "outputs": [],
   "source": []
  }
 ],
 "metadata": {
  "kernelspec": {
   "display_name": "crewai_env",
   "language": "python",
   "name": "python3"
  },
  "language_info": {
   "codemirror_mode": {
    "name": "ipython",
    "version": 3
   },
   "file_extension": ".py",
   "mimetype": "text/x-python",
   "name": "python",
   "nbconvert_exporter": "python",
   "pygments_lexer": "ipython3",
   "version": "3.11.11"
  }
 },
 "nbformat": 4,
 "nbformat_minor": 2
}
